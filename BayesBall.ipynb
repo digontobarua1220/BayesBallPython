{
 "cells": [
  {
   "cell_type": "code",
   "execution_count": 19,
   "metadata": {},
   "outputs": [],
   "source": [
    "import pandas as pd\n",
    "import numpy as np\n",
    "import matplotlib.pyplot as plt"
   ]
  },
  {
   "cell_type": "code",
   "execution_count": 20,
   "metadata": {},
   "outputs": [],
   "source": [
    "path = pd.read_csv('NYM_Team_Data.csv')"
   ]
  },
  {
   "cell_type": "code",
   "execution_count": 21,
   "metadata": {},
   "outputs": [
    {
     "data": {
      "text/html": [
       "<div>\n",
       "<style scoped>\n",
       "    .dataframe tbody tr th:only-of-type {\n",
       "        vertical-align: middle;\n",
       "    }\n",
       "\n",
       "    .dataframe tbody tr th {\n",
       "        vertical-align: top;\n",
       "    }\n",
       "\n",
       "    .dataframe thead th {\n",
       "        text-align: right;\n",
       "    }\n",
       "</style>\n",
       "<table border=\"1\" class=\"dataframe\">\n",
       "  <thead>\n",
       "    <tr style=\"text-align: right;\">\n",
       "      <th></th>\n",
       "      <th>Year</th>\n",
       "      <th>Tm</th>\n",
       "      <th>Lg</th>\n",
       "      <th>G</th>\n",
       "      <th>W</th>\n",
       "      <th>L</th>\n",
       "      <th>Ties</th>\n",
       "      <th>W-L%</th>\n",
       "      <th>pythW-L%</th>\n",
       "      <th>Finish</th>\n",
       "      <th>...</th>\n",
       "      <th>Playoffs</th>\n",
       "      <th>R</th>\n",
       "      <th>RA</th>\n",
       "      <th>Attendance</th>\n",
       "      <th>BatAge</th>\n",
       "      <th>PAge</th>\n",
       "      <th>#Bat</th>\n",
       "      <th>#P</th>\n",
       "      <th>Top Player</th>\n",
       "      <th>Managers</th>\n",
       "    </tr>\n",
       "  </thead>\n",
       "  <tbody>\n",
       "    <tr>\n",
       "      <th>0</th>\n",
       "      <td>NaN</td>\n",
       "      <td>NaN</td>\n",
       "      <td>NaN</td>\n",
       "      <td>NaN</td>\n",
       "      <td>NaN</td>\n",
       "      <td>NaN</td>\n",
       "      <td>NaN</td>\n",
       "      <td>NaN</td>\n",
       "      <td>NaN</td>\n",
       "      <td>NaN</td>\n",
       "      <td>...</td>\n",
       "      <td>NaN</td>\n",
       "      <td>NaN</td>\n",
       "      <td>NaN</td>\n",
       "      <td>NaN</td>\n",
       "      <td>NaN</td>\n",
       "      <td>NaN</td>\n",
       "      <td>NaN</td>\n",
       "      <td>NaN</td>\n",
       "      <td>NaN</td>\n",
       "      <td>NaN</td>\n",
       "    </tr>\n",
       "    <tr>\n",
       "      <th>1</th>\n",
       "      <td>2021.0</td>\n",
       "      <td>New York Mets</td>\n",
       "      <td>NL East</td>\n",
       "      <td>162.0</td>\n",
       "      <td>77.0</td>\n",
       "      <td>85.0</td>\n",
       "      <td>0.0</td>\n",
       "      <td>0.475</td>\n",
       "      <td>0.478</td>\n",
       "      <td>3rd of 5</td>\n",
       "      <td>...</td>\n",
       "      <td>NaN</td>\n",
       "      <td>636.0</td>\n",
       "      <td>668.0</td>\n",
       "      <td>1511926.0</td>\n",
       "      <td>28.2</td>\n",
       "      <td>29.5</td>\n",
       "      <td>64.0</td>\n",
       "      <td>42.0</td>\n",
       "      <td>J.deGrom (5.0)</td>\n",
       "      <td>L.Rojas (77-85)</td>\n",
       "    </tr>\n",
       "    <tr>\n",
       "      <th>2</th>\n",
       "      <td>2020.0</td>\n",
       "      <td>New York Mets</td>\n",
       "      <td>NL East</td>\n",
       "      <td>60.0</td>\n",
       "      <td>26.0</td>\n",
       "      <td>34.0</td>\n",
       "      <td>0.0</td>\n",
       "      <td>0.433</td>\n",
       "      <td>0.466</td>\n",
       "      <td>4th of 5</td>\n",
       "      <td>...</td>\n",
       "      <td>NaN</td>\n",
       "      <td>286.0</td>\n",
       "      <td>308.0</td>\n",
       "      <td>NaN</td>\n",
       "      <td>27.7</td>\n",
       "      <td>29.2</td>\n",
       "      <td>47.0</td>\n",
       "      <td>25.0</td>\n",
       "      <td>J.deGrom (2.7)</td>\n",
       "      <td>L.Rojas (26-34)</td>\n",
       "    </tr>\n",
       "    <tr>\n",
       "      <th>3</th>\n",
       "      <td>2019.0</td>\n",
       "      <td>New York Mets</td>\n",
       "      <td>NL East</td>\n",
       "      <td>162.0</td>\n",
       "      <td>86.0</td>\n",
       "      <td>76.0</td>\n",
       "      <td>0.0</td>\n",
       "      <td>0.531</td>\n",
       "      <td>0.532</td>\n",
       "      <td>3rd of 5</td>\n",
       "      <td>...</td>\n",
       "      <td>NaN</td>\n",
       "      <td>791.0</td>\n",
       "      <td>737.0</td>\n",
       "      <td>2442532.0</td>\n",
       "      <td>27.9</td>\n",
       "      <td>28.6</td>\n",
       "      <td>53.0</td>\n",
       "      <td>30.0</td>\n",
       "      <td>J.deGrom (8.4)</td>\n",
       "      <td>M.Callaway (86-76)</td>\n",
       "    </tr>\n",
       "    <tr>\n",
       "      <th>4</th>\n",
       "      <td>2018.0</td>\n",
       "      <td>New York Mets</td>\n",
       "      <td>NL East</td>\n",
       "      <td>162.0</td>\n",
       "      <td>77.0</td>\n",
       "      <td>85.0</td>\n",
       "      <td>0.0</td>\n",
       "      <td>0.475</td>\n",
       "      <td>0.479</td>\n",
       "      <td>4th of 5</td>\n",
       "      <td>...</td>\n",
       "      <td>NaN</td>\n",
       "      <td>676.0</td>\n",
       "      <td>707.0</td>\n",
       "      <td>2224995.0</td>\n",
       "      <td>28.4</td>\n",
       "      <td>28.0</td>\n",
       "      <td>56.0</td>\n",
       "      <td>30.0</td>\n",
       "      <td>J.deGrom (10.4)</td>\n",
       "      <td>M.Callaway (77-85)</td>\n",
       "    </tr>\n",
       "  </tbody>\n",
       "</table>\n",
       "<p>5 rows × 21 columns</p>\n",
       "</div>"
      ],
      "text/plain": [
       "     Year             Tm       Lg      G     W     L  Ties   W-L%  pythW-L%  \\\n",
       "0     NaN            NaN      NaN    NaN   NaN   NaN   NaN    NaN       NaN   \n",
       "1  2021.0  New York Mets  NL East  162.0  77.0  85.0   0.0  0.475     0.478   \n",
       "2  2020.0  New York Mets  NL East   60.0  26.0  34.0   0.0  0.433     0.466   \n",
       "3  2019.0  New York Mets  NL East  162.0  86.0  76.0   0.0  0.531     0.532   \n",
       "4  2018.0  New York Mets  NL East  162.0  77.0  85.0   0.0  0.475     0.479   \n",
       "\n",
       "     Finish  ... Playoffs      R     RA  Attendance  BatAge  PAge  #Bat    #P  \\\n",
       "0       NaN  ...      NaN    NaN    NaN         NaN     NaN   NaN   NaN   NaN   \n",
       "1  3rd of 5  ...      NaN  636.0  668.0   1511926.0    28.2  29.5  64.0  42.0   \n",
       "2  4th of 5  ...      NaN  286.0  308.0         NaN    27.7  29.2  47.0  25.0   \n",
       "3  3rd of 5  ...      NaN  791.0  737.0   2442532.0    27.9  28.6  53.0  30.0   \n",
       "4  4th of 5  ...      NaN  676.0  707.0   2224995.0    28.4  28.0  56.0  30.0   \n",
       "\n",
       "        Top Player            Managers  \n",
       "0              NaN                 NaN  \n",
       "1   J.deGrom (5.0)     L.Rojas (77-85)  \n",
       "2   J.deGrom (2.7)     L.Rojas (26-34)  \n",
       "3   J.deGrom (8.4)  M.Callaway (86-76)  \n",
       "4  J.deGrom (10.4)  M.Callaway (77-85)  \n",
       "\n",
       "[5 rows x 21 columns]"
      ]
     },
     "execution_count": 21,
     "metadata": {},
     "output_type": "execute_result"
    }
   ],
   "source": [
    "path.head()"
   ]
  },
  {
   "cell_type": "code",
   "execution_count": 22,
   "metadata": {},
   "outputs": [],
   "source": [
    "df = path.drop([0])"
   ]
  },
  {
   "cell_type": "code",
   "execution_count": 23,
   "metadata": {},
   "outputs": [
    {
     "data": {
      "text/html": [
       "<div>\n",
       "<style scoped>\n",
       "    .dataframe tbody tr th:only-of-type {\n",
       "        vertical-align: middle;\n",
       "    }\n",
       "\n",
       "    .dataframe tbody tr th {\n",
       "        vertical-align: top;\n",
       "    }\n",
       "\n",
       "    .dataframe thead th {\n",
       "        text-align: right;\n",
       "    }\n",
       "</style>\n",
       "<table border=\"1\" class=\"dataframe\">\n",
       "  <thead>\n",
       "    <tr style=\"text-align: right;\">\n",
       "      <th></th>\n",
       "      <th>Year</th>\n",
       "      <th>Tm</th>\n",
       "      <th>Lg</th>\n",
       "      <th>G</th>\n",
       "      <th>W</th>\n",
       "      <th>L</th>\n",
       "      <th>Ties</th>\n",
       "      <th>W-L%</th>\n",
       "      <th>pythW-L%</th>\n",
       "      <th>Finish</th>\n",
       "      <th>...</th>\n",
       "      <th>Playoffs</th>\n",
       "      <th>R</th>\n",
       "      <th>RA</th>\n",
       "      <th>Attendance</th>\n",
       "      <th>BatAge</th>\n",
       "      <th>PAge</th>\n",
       "      <th>#Bat</th>\n",
       "      <th>#P</th>\n",
       "      <th>Top Player</th>\n",
       "      <th>Managers</th>\n",
       "    </tr>\n",
       "  </thead>\n",
       "  <tbody>\n",
       "    <tr>\n",
       "      <th>1</th>\n",
       "      <td>2021.0</td>\n",
       "      <td>New York Mets</td>\n",
       "      <td>NL East</td>\n",
       "      <td>162.0</td>\n",
       "      <td>77.0</td>\n",
       "      <td>85.0</td>\n",
       "      <td>0.0</td>\n",
       "      <td>0.475</td>\n",
       "      <td>0.478</td>\n",
       "      <td>3rd of 5</td>\n",
       "      <td>...</td>\n",
       "      <td>NaN</td>\n",
       "      <td>636.0</td>\n",
       "      <td>668.0</td>\n",
       "      <td>1511926.0</td>\n",
       "      <td>28.2</td>\n",
       "      <td>29.5</td>\n",
       "      <td>64.0</td>\n",
       "      <td>42.0</td>\n",
       "      <td>J.deGrom (5.0)</td>\n",
       "      <td>L.Rojas (77-85)</td>\n",
       "    </tr>\n",
       "    <tr>\n",
       "      <th>2</th>\n",
       "      <td>2020.0</td>\n",
       "      <td>New York Mets</td>\n",
       "      <td>NL East</td>\n",
       "      <td>60.0</td>\n",
       "      <td>26.0</td>\n",
       "      <td>34.0</td>\n",
       "      <td>0.0</td>\n",
       "      <td>0.433</td>\n",
       "      <td>0.466</td>\n",
       "      <td>4th of 5</td>\n",
       "      <td>...</td>\n",
       "      <td>NaN</td>\n",
       "      <td>286.0</td>\n",
       "      <td>308.0</td>\n",
       "      <td>NaN</td>\n",
       "      <td>27.7</td>\n",
       "      <td>29.2</td>\n",
       "      <td>47.0</td>\n",
       "      <td>25.0</td>\n",
       "      <td>J.deGrom (2.7)</td>\n",
       "      <td>L.Rojas (26-34)</td>\n",
       "    </tr>\n",
       "    <tr>\n",
       "      <th>3</th>\n",
       "      <td>2019.0</td>\n",
       "      <td>New York Mets</td>\n",
       "      <td>NL East</td>\n",
       "      <td>162.0</td>\n",
       "      <td>86.0</td>\n",
       "      <td>76.0</td>\n",
       "      <td>0.0</td>\n",
       "      <td>0.531</td>\n",
       "      <td>0.532</td>\n",
       "      <td>3rd of 5</td>\n",
       "      <td>...</td>\n",
       "      <td>NaN</td>\n",
       "      <td>791.0</td>\n",
       "      <td>737.0</td>\n",
       "      <td>2442532.0</td>\n",
       "      <td>27.9</td>\n",
       "      <td>28.6</td>\n",
       "      <td>53.0</td>\n",
       "      <td>30.0</td>\n",
       "      <td>J.deGrom (8.4)</td>\n",
       "      <td>M.Callaway (86-76)</td>\n",
       "    </tr>\n",
       "    <tr>\n",
       "      <th>4</th>\n",
       "      <td>2018.0</td>\n",
       "      <td>New York Mets</td>\n",
       "      <td>NL East</td>\n",
       "      <td>162.0</td>\n",
       "      <td>77.0</td>\n",
       "      <td>85.0</td>\n",
       "      <td>0.0</td>\n",
       "      <td>0.475</td>\n",
       "      <td>0.479</td>\n",
       "      <td>4th of 5</td>\n",
       "      <td>...</td>\n",
       "      <td>NaN</td>\n",
       "      <td>676.0</td>\n",
       "      <td>707.0</td>\n",
       "      <td>2224995.0</td>\n",
       "      <td>28.4</td>\n",
       "      <td>28.0</td>\n",
       "      <td>56.0</td>\n",
       "      <td>30.0</td>\n",
       "      <td>J.deGrom (10.4)</td>\n",
       "      <td>M.Callaway (77-85)</td>\n",
       "    </tr>\n",
       "    <tr>\n",
       "      <th>5</th>\n",
       "      <td>2017.0</td>\n",
       "      <td>New York Mets</td>\n",
       "      <td>NL East</td>\n",
       "      <td>162.0</td>\n",
       "      <td>70.0</td>\n",
       "      <td>92.0</td>\n",
       "      <td>0.0</td>\n",
       "      <td>0.432</td>\n",
       "      <td>0.427</td>\n",
       "      <td>4th of 5</td>\n",
       "      <td>...</td>\n",
       "      <td>NaN</td>\n",
       "      <td>735.0</td>\n",
       "      <td>863.0</td>\n",
       "      <td>2460622.0</td>\n",
       "      <td>28.9</td>\n",
       "      <td>27.5</td>\n",
       "      <td>52.0</td>\n",
       "      <td>29.0</td>\n",
       "      <td>J.deGrom (4.6)</td>\n",
       "      <td>T.Collins (70-92)</td>\n",
       "    </tr>\n",
       "  </tbody>\n",
       "</table>\n",
       "<p>5 rows × 21 columns</p>\n",
       "</div>"
      ],
      "text/plain": [
       "     Year             Tm       Lg      G     W     L  Ties   W-L%  pythW-L%  \\\n",
       "1  2021.0  New York Mets  NL East  162.0  77.0  85.0   0.0  0.475     0.478   \n",
       "2  2020.0  New York Mets  NL East   60.0  26.0  34.0   0.0  0.433     0.466   \n",
       "3  2019.0  New York Mets  NL East  162.0  86.0  76.0   0.0  0.531     0.532   \n",
       "4  2018.0  New York Mets  NL East  162.0  77.0  85.0   0.0  0.475     0.479   \n",
       "5  2017.0  New York Mets  NL East  162.0  70.0  92.0   0.0  0.432     0.427   \n",
       "\n",
       "     Finish  ... Playoffs      R     RA  Attendance  BatAge  PAge  #Bat    #P  \\\n",
       "1  3rd of 5  ...      NaN  636.0  668.0   1511926.0    28.2  29.5  64.0  42.0   \n",
       "2  4th of 5  ...      NaN  286.0  308.0         NaN    27.7  29.2  47.0  25.0   \n",
       "3  3rd of 5  ...      NaN  791.0  737.0   2442532.0    27.9  28.6  53.0  30.0   \n",
       "4  4th of 5  ...      NaN  676.0  707.0   2224995.0    28.4  28.0  56.0  30.0   \n",
       "5  4th of 5  ...      NaN  735.0  863.0   2460622.0    28.9  27.5  52.0  29.0   \n",
       "\n",
       "        Top Player            Managers  \n",
       "1   J.deGrom (5.0)     L.Rojas (77-85)  \n",
       "2   J.deGrom (2.7)     L.Rojas (26-34)  \n",
       "3   J.deGrom (8.4)  M.Callaway (86-76)  \n",
       "4  J.deGrom (10.4)  M.Callaway (77-85)  \n",
       "5   J.deGrom (4.6)   T.Collins (70-92)  \n",
       "\n",
       "[5 rows x 21 columns]"
      ]
     },
     "execution_count": 23,
     "metadata": {},
     "output_type": "execute_result"
    }
   ],
   "source": [
    "df.head()\n",
    "    "
   ]
  },
  {
   "cell_type": "code",
   "execution_count": 24,
   "metadata": {},
   "outputs": [
    {
     "data": {
      "image/png": "[encoded data removed]",
      "text/plain": [
       "<Figure size 432x288 with 1 Axes>"
      ]
     },
     "metadata": {
      "needs_background": "light"
     },
     "output_type": "display_data"
    }
   ],
   "source": [
    "plt.scatter(df['BatAge'], df['R'], color = 'orange')\n",
    "z = np.polyfit(df['BatAge'], df['R'], 1)\n",
    "p = np.poly1d(z)\n",
    "plt.plot(df['BatAge'], p(df['BatAge']), \"b--\")\n",
    "plt.suptitle('Average Age of Batters vs Runs Scored')\n",
    "plt.xlabel('Average Age'); plt.ylabel('Runs Scored')\n",
    "plt.xlim(25, 31); plt.ylim(0, 1000)\n",
    "\n",
    "plt.show()"
   ]
  },
  {
   "cell_type": "code",
   "execution_count": 25,
   "metadata": {},
   "outputs": [
    {
     "data": {
      "text/html": [
       "<div>\n",
       "<style scoped>\n",
       "    .dataframe tbody tr th:only-of-type {\n",
       "        vertical-align: middle;\n",
       "    }\n",
       "\n",
       "    .dataframe tbody tr th {\n",
       "        vertical-align: top;\n",
       "    }\n",
       "\n",
       "    .dataframe thead th {\n",
       "        text-align: right;\n",
       "    }\n",
       "</style>\n",
       "<table border=\"1\" class=\"dataframe\">\n",
       "  <thead>\n",
       "    <tr style=\"text-align: right;\">\n",
       "      <th></th>\n",
       "      <th>BatAge</th>\n",
       "      <th>R</th>\n",
       "    </tr>\n",
       "  </thead>\n",
       "  <tbody>\n",
       "    <tr>\n",
       "      <th>count</th>\n",
       "      <td>60.000000</td>\n",
       "      <td>60.000000</td>\n",
       "    </tr>\n",
       "    <tr>\n",
       "      <th>mean</th>\n",
       "      <td>28.216667</td>\n",
       "      <td>647.816667</td>\n",
       "    </tr>\n",
       "    <tr>\n",
       "      <th>std</th>\n",
       "      <td>1.213786</td>\n",
       "      <td>108.540626</td>\n",
       "    </tr>\n",
       "    <tr>\n",
       "      <th>min</th>\n",
       "      <td>25.800000</td>\n",
       "      <td>286.000000</td>\n",
       "    </tr>\n",
       "    <tr>\n",
       "      <th>25%</th>\n",
       "      <td>27.400000</td>\n",
       "      <td>597.500000</td>\n",
       "    </tr>\n",
       "    <tr>\n",
       "      <th>50%</th>\n",
       "      <td>28.000000</td>\n",
       "      <td>648.000000</td>\n",
       "    </tr>\n",
       "    <tr>\n",
       "      <th>75%</th>\n",
       "      <td>28.950000</td>\n",
       "      <td>703.750000</td>\n",
       "    </tr>\n",
       "    <tr>\n",
       "      <th>max</th>\n",
       "      <td>30.700000</td>\n",
       "      <td>853.000000</td>\n",
       "    </tr>\n",
       "  </tbody>\n",
       "</table>\n",
       "</div>"
      ],
      "text/plain": [
       "          BatAge           R\n",
       "count  60.000000   60.000000\n",
       "mean   28.216667  647.816667\n",
       "std     1.213786  108.540626\n",
       "min    25.800000  286.000000\n",
       "25%    27.400000  597.500000\n",
       "50%    28.000000  648.000000\n",
       "75%    28.950000  703.750000\n",
       "max    30.700000  853.000000"
      ]
     },
     "execution_count": 25,
     "metadata": {},
     "output_type": "execute_result"
    }
   ],
   "source": [
    "df[['BatAge', 'R']].describe()"
   ]
  },
  {
   "cell_type": "markdown",
   "metadata": {},
   "source": [
    "Given that the NYM scored more than 650 runs in a partciular season, what's the probability that the average age of the batters during that season is less than 28?"
   ]
  },
  {
   "cell_type": "markdown",
   "metadata": {},
   "source": [
    "Bayes Theorem: P(A|B) = P(A)P(B|A)/P(B)\n",
    "P(B) = Probability of NYM scoring more than 650 runs = 29/60\n",
    "P(A) = Probability that average age of batters is less than 28 = 7/15\n",
    "P(B|A) = Probability that NYM scored more than 650 runs given the average age of batters is less than 28 = 3/20"
   ]
  },
  {
   "cell_type": "code",
   "execution_count": 26,
   "metadata": {},
   "outputs": [
    {
     "data": {
      "text/plain": [
       "(60, 21)"
      ]
     },
     "execution_count": 26,
     "metadata": {},
     "output_type": "execute_result"
    }
   ],
   "source": [
    "df.shape #60 total seasons in NYM history"
   ]
  },
  {
   "cell_type": "code",
   "execution_count": 27,
   "metadata": {},
   "outputs": [],
   "source": [
    "batters_under_28 = df.query('BatAge < 28')"
   ]
  },
  {
   "cell_type": "code",
   "execution_count": 28,
   "metadata": {},
   "outputs": [
    {
     "data": {
      "text/plain": [
       "(28, 21)"
      ]
     },
     "execution_count": 28,
     "metadata": {},
     "output_type": "execute_result"
    }
   ],
   "source": [
    "batters_under_28.shape #28 seasons IN NYM history with the average age of batters being lower than 28, p = 7/15"
   ]
  },
  {
   "cell_type": "code",
   "execution_count": 29,
   "metadata": {},
   "outputs": [
    {
     "data": {
      "text/plain": [
       "0.4666666666666667"
      ]
     },
     "execution_count": 29,
     "metadata": {},
     "output_type": "execute_result"
    }
   ],
   "source": [
    "28/60"
   ]
  },
  {
   "cell_type": "markdown",
   "metadata": {},
   "source": [
    "The probability that the New York Mets batters have an average age under 28 is 7/15"
   ]
  },
  {
   "cell_type": "code",
   "execution_count": 30,
   "metadata": {},
   "outputs": [],
   "source": [
    "runs_above_650 = df.query('R > 650')"
   ]
  },
  {
   "cell_type": "code",
   "execution_count": 31,
   "metadata": {},
   "outputs": [
    {
     "data": {
      "text/plain": [
       "(29, 21)"
      ]
     },
     "execution_count": 31,
     "metadata": {},
     "output_type": "execute_result"
    }
   ],
   "source": [
    "runs_above_650.shape #29 seasons in NYM history with more than 650 runs scored, p=29/60"
   ]
  },
  {
   "cell_type": "code",
   "execution_count": 32,
   "metadata": {},
   "outputs": [
    {
     "data": {
      "text/html": [
       "<div>\n",
       "<style scoped>\n",
       "    .dataframe tbody tr th:only-of-type {\n",
       "        vertical-align: middle;\n",
       "    }\n",
       "\n",
       "    .dataframe tbody tr th {\n",
       "        vertical-align: top;\n",
       "    }\n",
       "\n",
       "    .dataframe thead th {\n",
       "        text-align: right;\n",
       "    }\n",
       "</style>\n",
       "<table border=\"1\" class=\"dataframe\">\n",
       "  <thead>\n",
       "    <tr style=\"text-align: right;\">\n",
       "      <th></th>\n",
       "      <th>Year</th>\n",
       "      <th>Tm</th>\n",
       "      <th>Lg</th>\n",
       "      <th>G</th>\n",
       "      <th>W</th>\n",
       "      <th>L</th>\n",
       "      <th>Ties</th>\n",
       "      <th>W-L%</th>\n",
       "      <th>pythW-L%</th>\n",
       "      <th>Finish</th>\n",
       "      <th>...</th>\n",
       "      <th>Playoffs</th>\n",
       "      <th>R</th>\n",
       "      <th>RA</th>\n",
       "      <th>Attendance</th>\n",
       "      <th>BatAge</th>\n",
       "      <th>PAge</th>\n",
       "      <th>#Bat</th>\n",
       "      <th>#P</th>\n",
       "      <th>Top Player</th>\n",
       "      <th>Managers</th>\n",
       "    </tr>\n",
       "  </thead>\n",
       "  <tbody>\n",
       "    <tr>\n",
       "      <th>3</th>\n",
       "      <td>2019.0</td>\n",
       "      <td>New York Mets</td>\n",
       "      <td>NL East</td>\n",
       "      <td>162.0</td>\n",
       "      <td>86.0</td>\n",
       "      <td>76.0</td>\n",
       "      <td>0.0</td>\n",
       "      <td>0.531</td>\n",
       "      <td>0.532</td>\n",
       "      <td>3rd of 5</td>\n",
       "      <td>...</td>\n",
       "      <td>NaN</td>\n",
       "      <td>791.0</td>\n",
       "      <td>737.0</td>\n",
       "      <td>2442532.0</td>\n",
       "      <td>27.9</td>\n",
       "      <td>28.6</td>\n",
       "      <td>53.0</td>\n",
       "      <td>30.0</td>\n",
       "      <td>J.deGrom (8.4)</td>\n",
       "      <td>M.Callaway (86-76)</td>\n",
       "    </tr>\n",
       "    <tr>\n",
       "      <th>4</th>\n",
       "      <td>2018.0</td>\n",
       "      <td>New York Mets</td>\n",
       "      <td>NL East</td>\n",
       "      <td>162.0</td>\n",
       "      <td>77.0</td>\n",
       "      <td>85.0</td>\n",
       "      <td>0.0</td>\n",
       "      <td>0.475</td>\n",
       "      <td>0.479</td>\n",
       "      <td>4th of 5</td>\n",
       "      <td>...</td>\n",
       "      <td>NaN</td>\n",
       "      <td>676.0</td>\n",
       "      <td>707.0</td>\n",
       "      <td>2224995.0</td>\n",
       "      <td>28.4</td>\n",
       "      <td>28.0</td>\n",
       "      <td>56.0</td>\n",
       "      <td>30.0</td>\n",
       "      <td>J.deGrom (10.4)</td>\n",
       "      <td>M.Callaway (77-85)</td>\n",
       "    </tr>\n",
       "    <tr>\n",
       "      <th>5</th>\n",
       "      <td>2017.0</td>\n",
       "      <td>New York Mets</td>\n",
       "      <td>NL East</td>\n",
       "      <td>162.0</td>\n",
       "      <td>70.0</td>\n",
       "      <td>92.0</td>\n",
       "      <td>0.0</td>\n",
       "      <td>0.432</td>\n",
       "      <td>0.427</td>\n",
       "      <td>4th of 5</td>\n",
       "      <td>...</td>\n",
       "      <td>NaN</td>\n",
       "      <td>735.0</td>\n",
       "      <td>863.0</td>\n",
       "      <td>2460622.0</td>\n",
       "      <td>28.9</td>\n",
       "      <td>27.5</td>\n",
       "      <td>52.0</td>\n",
       "      <td>29.0</td>\n",
       "      <td>J.deGrom (4.6)</td>\n",
       "      <td>T.Collins (70-92)</td>\n",
       "    </tr>\n",
       "    <tr>\n",
       "      <th>6</th>\n",
       "      <td>2016.0</td>\n",
       "      <td>New York Mets</td>\n",
       "      <td>NL East</td>\n",
       "      <td>162.0</td>\n",
       "      <td>87.0</td>\n",
       "      <td>75.0</td>\n",
       "      <td>0.0</td>\n",
       "      <td>0.537</td>\n",
       "      <td>0.538</td>\n",
       "      <td>2nd of 5</td>\n",
       "      <td>...</td>\n",
       "      <td>Lost NLWC (1-0)</td>\n",
       "      <td>671.0</td>\n",
       "      <td>617.0</td>\n",
       "      <td>2789602.0</td>\n",
       "      <td>29.5</td>\n",
       "      <td>28.4</td>\n",
       "      <td>46.0</td>\n",
       "      <td>22.0</td>\n",
       "      <td>N.Syndergaard (5.7)</td>\n",
       "      <td>T.Collins (87-75)</td>\n",
       "    </tr>\n",
       "    <tr>\n",
       "      <th>7</th>\n",
       "      <td>2015.0</td>\n",
       "      <td>New York Mets</td>\n",
       "      <td>NL East</td>\n",
       "      <td>162.0</td>\n",
       "      <td>90.0</td>\n",
       "      <td>72.0</td>\n",
       "      <td>0.0</td>\n",
       "      <td>0.556</td>\n",
       "      <td>0.549</td>\n",
       "      <td>1st of 5</td>\n",
       "      <td>...</td>\n",
       "      <td>Lost WS (4-1)</td>\n",
       "      <td>683.0</td>\n",
       "      <td>613.0</td>\n",
       "      <td>2569753.0</td>\n",
       "      <td>28.6</td>\n",
       "      <td>28.2</td>\n",
       "      <td>49.0</td>\n",
       "      <td>26.0</td>\n",
       "      <td>J.deGrom (5.5)</td>\n",
       "      <td>T.Collins (90-72)</td>\n",
       "    </tr>\n",
       "  </tbody>\n",
       "</table>\n",
       "<p>5 rows × 21 columns</p>\n",
       "</div>"
      ],
      "text/plain": [
       "     Year             Tm       Lg      G     W     L  Ties   W-L%  pythW-L%  \\\n",
       "3  2019.0  New York Mets  NL East  162.0  86.0  76.0   0.0  0.531     0.532   \n",
       "4  2018.0  New York Mets  NL East  162.0  77.0  85.0   0.0  0.475     0.479   \n",
       "5  2017.0  New York Mets  NL East  162.0  70.0  92.0   0.0  0.432     0.427   \n",
       "6  2016.0  New York Mets  NL East  162.0  87.0  75.0   0.0  0.537     0.538   \n",
       "7  2015.0  New York Mets  NL East  162.0  90.0  72.0   0.0  0.556     0.549   \n",
       "\n",
       "     Finish  ...         Playoffs      R     RA  Attendance  BatAge  PAge  \\\n",
       "3  3rd of 5  ...              NaN  791.0  737.0   2442532.0    27.9  28.6   \n",
       "4  4th of 5  ...              NaN  676.0  707.0   2224995.0    28.4  28.0   \n",
       "5  4th of 5  ...              NaN  735.0  863.0   2460622.0    28.9  27.5   \n",
       "6  2nd of 5  ...  Lost NLWC (1-0)  671.0  617.0   2789602.0    29.5  28.4   \n",
       "7  1st of 5  ...    Lost WS (4-1)  683.0  613.0   2569753.0    28.6  28.2   \n",
       "\n",
       "   #Bat    #P           Top Player            Managers  \n",
       "3  53.0  30.0       J.deGrom (8.4)  M.Callaway (86-76)  \n",
       "4  56.0  30.0      J.deGrom (10.4)  M.Callaway (77-85)  \n",
       "5  52.0  29.0       J.deGrom (4.6)   T.Collins (70-92)  \n",
       "6  46.0  22.0  N.Syndergaard (5.7)   T.Collins (87-75)  \n",
       "7  49.0  26.0       J.deGrom (5.5)   T.Collins (90-72)  \n",
       "\n",
       "[5 rows x 21 columns]"
      ]
     },
     "execution_count": 32,
     "metadata": {},
     "output_type": "execute_result"
    }
   ],
   "source": [
    "runs_above_650.head()"
   ]
  },
  {
   "cell_type": "code",
   "execution_count": 33,
   "metadata": {},
   "outputs": [],
   "source": [
    "batters_under_28_and_more_than_650_runs_scored = batters_under_28.query('R > 650')"
   ]
  },
  {
   "cell_type": "code",
   "execution_count": 34,
   "metadata": {},
   "outputs": [
    {
     "data": {
      "text/plain": [
       "(9, 21)"
      ]
     },
     "execution_count": 34,
     "metadata": {},
     "output_type": "execute_result"
    }
   ],
   "source": [
    "batters_under_28_and_more_than_650_runs_scored.shape #9 seasons in NYM history with more than 650 runs scored and average batter age less than 28, p=3/20"
   ]
  },
  {
   "cell_type": "code",
   "execution_count": 35,
   "metadata": {},
   "outputs": [],
   "source": [
    "def bayes_ball1():\n",
    "    p_b = 29 / 60\n",
    "    p_a = 7 / 15\n",
    "    p_b_given_a = 3/20\n",
    "    prob = (p_a * p_b_given_a) / p_b\n",
    "    return f'Given that the NYM scored more than 650 runs in a particular season, the probability that the average age of the batters during that season is less than 28 is {prob}.'"
   ]
  },
  {
   "cell_type": "code",
   "execution_count": 38,
   "metadata": {},
   "outputs": [
    {
     "data": {
      "text/plain": [
       "'Given that the NYM scored more than 650 runs in a particular season, the probability that the average age of the batters during that season is less than 28 is 0.14482758620689654.'"
      ]
     },
     "execution_count": 38,
     "metadata": {},
     "output_type": "execute_result"
    }
   ],
   "source": [
    "bayes_ball1()"
   ]
  },
  {
   "cell_type": "code",
   "execution_count": null,
   "metadata": {},
   "outputs": [
    {
     "data": {
      "text/plain": [
       "0.15"
      ]
     },
     "execution_count": 21,
     "metadata": {},
     "output_type": "execute_result"
    }
   ],
   "source": [
    "9/60"
   ]
  },
  {
   "cell_type": "code",
   "execution_count": 39,
   "metadata": {},
   "outputs": [
    {
     "data": {
      "text/plain": [
       "(0.25, 0.75)"
      ]
     },
     "execution_count": 39,
     "metadata": {},
     "output_type": "execute_result"
    },
    {
     "data": {
      "image/png": "[encoded data removed]",
      "text/plain": [
       "<Figure size 432x288 with 1 Axes>"
      ]
     },
     "metadata": {
      "needs_background": "light"
     },
     "output_type": "display_data"
    }
   ],
   "source": [
    "plt.scatter(df['W-L%'], df['pythW-L%'], color = 'orange')\n",
    "z = np.polyfit(df['W-L%'], df['pythW-L%'], 1)\n",
    "p = np.poly1d(z)\n",
    "plt.plot(df['W-L%'], p(df['W-L%']), \"b--\")\n",
    "plt.suptitle('NYM Actual Win-Loss Record vs Pythagorean Win-Loss Proportion')\n",
    "plt.xlabel('Actual Win-Loss Record'); plt.ylabel('Pythagorean Win-Loss Proportion')\n",
    "plt.xlim(0.25, 0.75); plt.ylim(0.25, 0.75)"
   ]
  },
  {
   "cell_type": "markdown",
   "metadata": {},
   "source": [
    "Given that the Actual Win-Loss proportion exceeds the Pythagorean Win-Loss proportion, what's the probability that the New York Mets make the playoffs?"
   ]
  },
  {
   "cell_type": "markdown",
   "metadata": {},
   "source": [
    "Bayes Theorem: P(A|B) = P(A)P(B|A)/P(B)\n",
    "P(B) = NYM Actual Record better than Expected Record = 19/60\n",
    "p(A) = NYM make the playoffs! = 3/20\n",
    "p(B|A) = Given NYM makes the playoffs, what's the probability that their actual record was better than their expected record? = 1"
   ]
  },
  {
   "cell_type": "code",
   "execution_count": 49,
   "metadata": {},
   "outputs": [
    {
     "data": {
      "text/plain": [
       "(19, 21)"
      ]
     },
     "execution_count": 49,
     "metadata": {},
     "output_type": "execute_result"
    }
   ],
   "source": [
    "df2 = df.rename({'W-L%' : 'Record', 'pythW-L%' : \"ExpRecord\"}, axis=1) #19 seasons where NYM outperformed pythagorean record\n",
    "df2 = df2[df2.Record.gt(df2.ExpRecord)]\n",
    "df2.shape"
   ]
  },
  {
   "cell_type": "code",
   "execution_count": null,
   "metadata": {},
   "outputs": [
    {
     "data": {
      "text/plain": [
       "9"
      ]
     },
     "execution_count": 56,
     "metadata": {},
     "output_type": "execute_result"
    }
   ],
   "source": [
    "df['Playoffs'].count()"
   ]
  },
  {
   "cell_type": "code",
   "execution_count": null,
   "metadata": {},
   "outputs": [
    {
     "data": {
      "text/plain": [
       "9"
      ]
     },
     "execution_count": 58,
     "metadata": {},
     "output_type": "execute_result"
    }
   ],
   "source": [
    "df2['Playoffs'].count()"
   ]
  },
  {
   "cell_type": "code",
   "execution_count": 47,
   "metadata": {},
   "outputs": [],
   "source": [
    "def bayes_ball2():\n",
    "    p_b = 19/60\n",
    "    p_a = 3 / 20\n",
    "    p_b_given_a = 1\n",
    "    prob = (p_a * p_b_given_a) / p_b\n",
    "    return f'Given the record New York Mets exeeds their expected record, the probability that they make the playoffs is {prob}.'"
   ]
  },
  {
   "cell_type": "code",
   "execution_count": 48,
   "metadata": {},
   "outputs": [
    {
     "data": {
      "text/plain": [
       "'Given the record New York Mets exeeds their expected record, the probability that they make the playoffs is 0.4736842105263158.'"
      ]
     },
     "execution_count": 48,
     "metadata": {},
     "output_type": "execute_result"
    }
   ],
   "source": [
    "bayes_ball2()"
   ]
  }
 ],
 "metadata": {
  "interpreter": {
   "hash": "77e4a0de727f701ccf3e2c6fbb8c1cea795ae68e321b3e621ec50bf3021c6d9e"
  },
  "kernelspec": {
   "display_name": "Python 3.10.0 64-bit",
   "language": "python",
   "name": "python3"
  },
  "language_info": {
   "codemirror_mode": {
    "name": "ipython",
    "version": 3
   },
   "file_extension": ".py",
   "mimetype": "text/x-python",
   "name": "python",
   "nbconvert_exporter": "python",
   "pygments_lexer": "ipython3",
   "version": "3.10.0"
  },
  "orig_nbformat": 4
 },
 "nbformat": 4,
 "nbformat_minor": 2
}
